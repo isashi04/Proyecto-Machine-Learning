{
 "cells": [
  {
   "cell_type": "markdown",
   "id": "79e4a667-82d7-4109-a6a3-d86de86a0691",
   "metadata": {},
   "source": [
    "# Ejemplo de documentación del Proceso de Recolección de Datos para el Proyecto de Predicción de Gasto Anual de la Tienda de Ropa"
   ]
  },
  {
   "cell_type": "markdown",
   "id": "db3421bb-5acd-486d-95d0-d4b820f83648",
   "metadata": {},
   "source": [
    "### 1. Fuentes"
   ]
  },
  {
   "cell_type": "markdown",
   "id": "839c9454-414d-4dad-aeaf-78ec4d29e57d",
   "metadata": {},
   "source": [
    "*Identificación de Fuentes:* Base de datos interna del CRM, API interna para captura de datos web y APP"
   ]
  },
  {
   "cell_type": "markdown",
   "id": "30891390-7a1c-443f-b782-9c63f7d9f32d",
   "metadata": {},
   "source": [
    "*Descripción de las Fuentes:*\n",
    "La base de datos CRM contiene información detallada sobre:\n",
    "* Transacciones: identificacion de venta, fechas, importes y artículos comprados.\n",
    "* Datos de Clientes: Información personal como nombre, correo electrónico, dirección, edad, estado civil, posesion de membresia, historial de compra.\n",
    "\n",
    "A partir de la API interna el equipo de IT se capaz de capturar información sobre la interacción de los clientes con la aplicación y la página web como: identificacion de cliente, plataforma de conexion, hora y tiempo de sesión, articulos visitados, articulos comprado, lugar geografico desde donde se conecta."
   ]
  },
  {
   "cell_type": "markdown",
   "id": "a66928df-68cc-4c8b-9776-2c318e0304db",
   "metadata": {},
   "source": [
    "### 2. Métodos de recolección de datos"
   ]
  },
  {
   "cell_type": "markdown",
   "id": "ef0bb710-5dbf-43db-b997-2926647a9ed1",
   "metadata": {},
   "source": [
    "*Procedimientos y Herramientas:* El equipo de IT se encarga de realizar la exportación diaria de las diferentes tablas en formato CSV, esta se almacena en un repositorio de GitHub que se comparte con el equipo de analisis de datos.\n",
    "\n",
    "El equipo de analistas usa el lenguaje de programacion Python para realizar el analisis de datos, usando librerias como python y matplotlib para el analisis de datos, internamente desarrollan el analisis en jupyternotebooks pero las conclusiones de los analisis se presentan a los usuarios haciendo uso de presentaciones y dashboards que se comparten usando el sharepoint de la compañia."
   ]
  },
  {
   "cell_type": "markdown",
   "id": "d1418ae1-9399-4dfc-b34d-92137208a222",
   "metadata": {},
   "source": [
    "*Frecuencia de Recolección:* Diariamente"
   ]
  },
  {
   "cell_type": "markdown",
   "id": "70821cdd-c74c-4938-a791-7b5839512312",
   "metadata": {},
   "source": [
    "*Scripts de Descarga:*"
   ]
  },
  {
   "cell_type": "code",
   "execution_count": null,
   "id": "3ec08c1f-8224-43fd-a5a2-11d9984abaf2",
   "metadata": {},
   "outputs": [],
   "source": [
    "importe pandas as pd\n",
    "\n",
    "csv_url = \"https://raw.githubusercontent.com/ITACADEMYprojectes/projecteML/main/Ecommerce_Customers.csv\"\n",
    "df = pd.read_csv(csv_url)\n",
    "print(df.info())"
   ]
  },
  {
   "cell_type": "markdown",
   "id": "87e347c4-ac32-4413-860b-0104b782bf7b",
   "metadata": {},
   "source": [
    "### 3. Formato y Estructura de los Datos"
   ]
  },
  {
   "cell_type": "markdown",
   "id": "acefac5e-49b9-4237-9bba-180fa28294e3",
   "metadata": {},
   "source": [
    "* *Numéricos:* SesionPromedio, HoraConeApp, HoraConeWeb, MembershipID, GastoPromedio, GastoAnual"
   ]
  },
  {
   "cell_type": "markdown",
   "id": "b3ef0f4c-15f8-40bc-89aa-baaf30e7f0be",
   "metadata": {},
   "source": [
    "* *Categórico:* Email, CP, Direccion, Genero, ECivil, Edad, Nacional"
   ]
  },
  {
   "cell_type": "markdown",
   "id": "dad7a98b-d1d5-4821-a10b-6f9974f02405",
   "metadata": {},
   "source": [
    "* *Formato de Almacenamiento:* Datos tabulares almacenados en archivo csv."
   ]
  },
  {
   "cell_type": "markdown",
   "id": "ad071248-0d19-4af4-bd4e-de735c5bfde9",
   "metadata": {},
   "source": [
    "### 4. Limitaciones de los datos"
   ]
  },
  {
   "cell_type": "markdown",
   "id": "ef27d185-994f-44ff-8170-b53e7c9592d0",
   "metadata": {},
   "source": [
    "*Diferentes Tiempo de Actualización:* Puede que exista un desface entre los datos recolectados por la plataforma de CRM y la informacion registrada por la API en la app y del sitio web.\n",
    "* Calidad de los datos: pueden existir inconsistencias en variables como Email, direccion, o cualquier otra que sea ingresada de forma manual por el cliente. Se detecto que cuando el cliente ingresa a la aplicacion en idioma ingles, la aplicacion registra el formato mm/dd/yyyy esto no ocurre en la pagina web, el equipo de IT lo esta revisando. En casos de promociones puntuales se ha detectado que hay casos en los que la app tiene problema para registrar la oferta de ciertos productos, el equipo de IT lo esta revisando."
   ]
  },
  {
   "cell_type": "markdown",
   "id": "a17d355d-863c-4281-b538-6a8b593b0af0",
   "metadata": {},
   "source": [
    "### 5. Consideraciones sobre Datos Sensibles"
   ]
  },
  {
   "cell_type": "markdown",
   "id": "33c0ecf4-e46d-437b-8ca4-d64d9ef0eff4",
   "metadata": {},
   "source": [
    "##### Tipo de Datos Sensibles:"
   ]
  },
  {
   "cell_type": "markdown",
   "id": "7065ccde-90da-4a2d-bead-7e7b7505436a",
   "metadata": {},
   "source": [
    "* *Información Personal Identificable (PII):* Email, Direccion, Nombre, Apellido, CP, Identificacion nacional (DNI, NIE, Pasaporte)"
   ]
  },
  {
   "cell_type": "markdown",
   "id": "fc924a6f-bdf5-4178-8f5a-606f2fd89935",
   "metadata": {},
   "source": [
    "* *Información Financiera Sensible:* GastoPromedio, GastoAnual"
   ]
  },
  {
   "cell_type": "markdown",
   "id": "d3edbaff-f794-4f3e-9c11-86a4a11fceb1",
   "metadata": {},
   "source": [
    "* *Datos Comportamentales Sensibles:* SesionPromedio, HoraConeApp, HoraConeWeb, MembershipID"
   ]
  },
  {
   "cell_type": "markdown",
   "id": "87fd646b-3aaa-428c-b7a4-99d3942b7b76",
   "metadata": {},
   "source": [
    "##### Medidas de Protección:"
   ]
  },
  {
   "cell_type": "markdown",
   "id": "b3a9de0e-4e26-4de2-bcdd-3a90645a1207",
   "metadata": {},
   "source": [
    "* *Anonimización y Pseudonimización:* Se aplicarán hash para el email y la sustitución por códigos para Address. Para mantener el anonimato, la informacion asociada al numero de identificacion nacional sera sustituido por la variable categorica Nacional, donde solo se identificara si se trata personas extranjeras o nacionales. Por la misma razon, solo se usara el codigo postal para mantener informacion de la direccion de los usuarios."
   ]
  },
  {
   "cell_type": "markdown",
   "id": "89ca5e31-da6e-4ed7-9ba0-86314e80218c",
   "metadata": {},
   "source": [
    "* *Acceso Restringido:* El preprocesamiento de datos sensibles solo podra hacerlo personal sensible, ocurre lo mismo con el resto de los datos sensibles que no requieren preprocesamiento."
   ]
  },
  {
   "cell_type": "markdown",
   "id": "c6cca302-622c-4baa-97c6-956101898d57",
   "metadata": {},
   "source": [
    "* *Cumplimiento de Regulaciones:* Todo el personal involucrado recibira entrenamiento en la GDRP. Este entrenamiento, se realizara como minimo de forma anual (la periodicidad puede aumentar en caso de que exista una actualizacion de la normativa)  "
   ]
  },
  {
   "cell_type": "markdown",
   "id": "80c8a742-c368-41b4-8bbf-39a29d785eab",
   "metadata": {},
   "source": [
    "# El link a mi github es"
   ]
  },
  {
   "cell_type": "markdown",
   "id": "016f57c5-c089-42b4-8db5-68d03d85d00f",
   "metadata": {},
   "source": [
    "https://github.com/isashi04/Proyecto-Machine-Learning"
   ]
  },
  {
   "cell_type": "code",
   "execution_count": null,
   "id": "51c948df-9a41-4fb3-9b99-66df42bcfc4c",
   "metadata": {},
   "outputs": [],
   "source": []
  }
 ],
 "metadata": {
  "kernelspec": {
   "display_name": "Python 3 (ipykernel)",
   "language": "python",
   "name": "python3"
  },
  "language_info": {
   "codemirror_mode": {
    "name": "ipython",
    "version": 3
   },
   "file_extension": ".py",
   "mimetype": "text/x-python",
   "name": "python",
   "nbconvert_exporter": "python",
   "pygments_lexer": "ipython3",
   "version": "3.11.7"
  }
 },
 "nbformat": 4,
 "nbformat_minor": 5
}
