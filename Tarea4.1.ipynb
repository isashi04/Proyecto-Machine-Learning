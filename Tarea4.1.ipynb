{
 "cells": [
  {
   "cell_type": "markdown",
   "id": "c2145fb2-bfe6-4837-babd-32ebe999be78",
   "metadata": {},
   "source": [
    "# Tarea 4.1 **Extraccion de informacion desde una pagina web.**"
   ]
  },
  {
   "cell_type": "markdown",
   "id": "cb7b51a9-04a9-4cb5-adce-aae34fd4d6df",
   "metadata": {},
   "source": [
    "### Ejercicio 1. Consumir una API"
   ]
  },
  {
   "cell_type": "markdown",
   "id": "a902ebf8-48a1-4a66-8f95-8a144d0231ce",
   "metadata": {},
   "source": [
    "Selecciona una API pública y extrae datos utilizando Python."
   ]
  },
  {
   "cell_type": "markdown",
   "id": "f621a9e5-cd7d-4915-947e-059182d6ac12",
   "metadata": {},
   "source": [
    "#### 1. Instalo la libreria de yahoo finance"
   ]
  },
  {
   "cell_type": "code",
   "execution_count": null,
   "id": "a6b7b859-a3b7-4828-aee2-580f87461a8d",
   "metadata": {},
   "outputs": [],
   "source": [
    "#pip install yfinance"
   ]
  },
  {
   "cell_type": "markdown",
   "id": "26bdebae-eecb-461a-98a4-15d4974d831c",
   "metadata": {},
   "source": [
    "#### 2.Creo el codigo"
   ]
  },
  {
   "cell_type": "code",
   "execution_count": null,
   "id": "dbef2861-daea-4b8a-9f02-ed0dbe85405f",
   "metadata": {},
   "outputs": [],
   "source": [
    "import yfinance as yf\n",
    "import pandas as pd\n",
    "\n",
    "def obtener_datos_api(ticker, fecha_inicial, fecha_final):\n",
    "    try:\n",
    "        # Descargar información del ticker\n",
    "        accion = yf.Ticker(ticker)\n",
    "        \n",
    "        # Obtener datos históricos entre las fechas especificadas\n",
    "        datos_historicos = accion.history(start=fecha_inicial, end=fecha_final)\n",
    "        \n",
    "        # Crear un DataFrame con la información relevante\n",
    "        tabla = pd.DataFrame({\n",
    "            'Fecha': datos_historicos.index,  # Fechas\n",
    "            'Cierre': datos_historicos['Close'].round[2],  # Precios de cierre\n",
    "        })\n",
    "        \n",
    "        # Formatear la columna Fecha al formato 'yyyy-mm-dd'\n",
    "        tabla['Fecha'] = pd.to_datetime(tabla['Fecha']).dt.strftime('%Y-%m-%d')\n",
    "        \n",
    "        # Añadir la información adicional sobre la empresa\n",
    "        Nombre = accion.info.get('longName')\n",
    "        \n",
    "        # Obtener la capitalización de mercado actual\n",
    "        capitalizacion_mercado = accion.info.get('marketCap')\n",
    "        \n",
    "        # Imprimir capitalización de mercado fuera de la tabla\n",
    "        print(f\"Capitalización de Mercado: {capitalizacion_mercado}\")\n",
    "        print(f\"Nombre de la empresa: {Nombre}\") \n",
    "        \n",
    "        return tabla.reset_index(drop=True)  # Reinicio el índice para evitar que la fecha esté como índice y la info aparezca duplicada\n",
    "    except Exception as e:\n",
    "        print(f\"Error al obtener datos de la API: {e}\")\n",
    "        return None"
   ]
  },
  {
   "cell_type": "markdown",
   "id": "0f2ad7f4-0662-40de-904b-4cfc7a4c6440",
   "metadata": {},
   "source": [
    "##### 3.Hago una prueba para ver si funciona."
   ]
  },
  {
   "cell_type": "code",
   "execution_count": null,
   "id": "d7b578af-2de6-4b49-b998-2a0319aa9b06",
   "metadata": {},
   "outputs": [],
   "source": [
    "ticker = 'AAPL'  # Ticker de Apple\n",
    "fecha_inicial = '2024-06-01'  # Fecha inicial\n",
    "fecha_final = '2024-10-12'    # Fecha final\n",
    "\n",
    "datos = obtener_datos_api(ticker, fecha_inicial, fecha_final)\n",
    "datos"
   ]
  },
  {
   "cell_type": "markdown",
   "id": "c81085ee-90b6-4489-b63d-945f92dff912",
   "metadata": {},
   "source": [
    "## Ejercicio 2. **Obtener datos con Web Scraping**"
   ]
  },
  {
   "cell_type": "markdown",
   "id": "07fa8274-079f-46e4-bb13-ec1b4d307e3d",
   "metadata": {},
   "source": [
    "Selecciona un sitio web y extrae datos utilizando la técnica de Web Scraping en Python."
   ]
  },
  {
   "cell_type": "markdown",
   "id": "93fc4a01-8771-4f2e-b686-a03225ae64bd",
   "metadata": {},
   "source": [
    "#### 2. Creo el codigo."
   ]
  },
  {
   "cell_type": "markdown",
   "id": "ae305b3b-7d19-45bb-9854-5137401accc6",
   "metadata": {},
   "source": [
    "Intente replicar la informacion que se podia sacar con la API pero me fue imposible, no se como mejorar la variable **URL= f\"https://finance.yahoo.com/quote/{ticker}\"** para que permita extraer la informacion de todos los dias, imagino que la pagina de yahoo tiene restricciones para la extraccion de informacion fuera del uso de la API. Tengo que aprender mas acerca de como simular mejor las extracciones de informacion sin el uso de APIs."
   ]
  },
  {
   "cell_type": "code",
   "execution_count": null,
   "id": "6ad3da85-60fc-4cb2-9449-a21a6c673674",
   "metadata": {},
   "outputs": [],
   "source": [
    "import requests\n",
    "from bs4 import BeautifulSoup\n",
    "\n",
    "def obtener_precio_hoy(ticker):\n",
    "    try:\n",
    "        # URL de Yahoo Finance para el ticker especificado\n",
    "        url = f\"https://finance.yahoo.com/quote/{ticker}\"\n",
    "        \n",
    "        # Encabezados HTTP para imitar una solicitud de navegador\n",
    "        headers = {\n",
    "            'User-Agent': 'Mozilla/5.0 (Windows NT 10.0; Win64; x64) AppleWebKit/537.36 (KHTML, like Gecko) Chrome/91.0.4472.124 Safari/537.36'\n",
    "        }\n",
    "        \n",
    "        # Hacer la solicitud HTTP a la página web\n",
    "        response = requests.get(url, headers=headers)\n",
    "        if response.status_code != 200:\n",
    "            raise Exception(f\"Error HTTP {response.status_code}: no se pudo acceder a Yahoo Finance\")\n",
    "        \n",
    "        # Analizar el contenido HTML\n",
    "        soup = BeautifulSoup(response.content, 'html.parser')\n",
    "        \n",
    "        # Buscar el precio actual en la página (usualmente está en un span con estos atributos)\n",
    "        precio_actual = soup.find('fin-streamer', {'data-field': 'regularMarketPrice'})\n",
    "        if precio_actual is None:\n",
    "            raise Exception(\"No se encontró el precio actual en la página\")\n",
    "\n",
    "        # Convertir el precio a un número de tipo float\n",
    "        precio = float(precio_actual.text.replace(',', ''))\n",
    "\n",
    "        return precio\n",
    "    except Exception as e:\n",
    "        print(f\"Error al obtener el precio de la acción: {e}\")\n",
    "        return None"
   ]
  },
  {
   "cell_type": "markdown",
   "id": "8e30bf43-1063-4a6f-9ce5-39518ceb4c56",
   "metadata": {},
   "source": [
    "#### 3. Hago una prueba a ver si funciona."
   ]
  },
  {
   "cell_type": "code",
   "execution_count": null,
   "id": "39c54039-13cb-4b1b-bcae-742652fb17ac",
   "metadata": {},
   "outputs": [],
   "source": [
    "ticker = 'AAPL'  # Ticker de Apple\n",
    "precio_hoy = obtener_precio_hoy(ticker)\n",
    "if precio_hoy:\n",
    "    print(f\"El precio de la acción de {ticker} hoy es: {precio_hoy}\")"
   ]
  },
  {
   "cell_type": "code",
   "execution_count": null,
   "id": "f83aa22f-b8c7-4aca-8d78-dbc21b10c611",
   "metadata": {},
   "outputs": [],
   "source": []
  }
 ],
 "metadata": {
  "kernelspec": {
   "display_name": "Python 3 (ipykernel)",
   "language": "python",
   "name": "python3"
  },
  "language_info": {
   "codemirror_mode": {
    "name": "ipython",
    "version": 3
   },
   "file_extension": ".py",
   "mimetype": "text/x-python",
   "name": "python",
   "nbconvert_exporter": "python",
   "pygments_lexer": "ipython3",
   "version": "3.11.7"
  }
 },
 "nbformat": 4,
 "nbformat_minor": 5
}
