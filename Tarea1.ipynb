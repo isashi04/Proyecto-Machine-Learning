{
 "cells": [
  {
   "cell_type": "markdown",
   "id": "6deda492-5cf8-4c41-bab8-0cd28cb463d6",
   "metadata": {},
   "source": [
    "# Tarea 1 de Machine Learning en Barcelona Activa"
   ]
  },
  {
   "cell_type": "markdown",
   "id": "031ab9af-7070-40d4-b262-faeb652e68dc",
   "metadata": {},
   "source": [
    "## Ejercicio 1\n",
    "Instala el programa Anaconda con Python 3, y Jupyter Notebook.\""
   ]
  },
  {
   "cell_type": "markdown",
   "id": "444eff1f-0125-4976-b4ea-0d5ab82a5638",
   "metadata": {},
   "source": [
    "![Anaconda](Tarea1/Anaconda.png)"
   ]
  },
  {
   "cell_type": "markdown",
   "id": "6dce897a-f18f-4956-8065-e95685adc453",
   "metadata": {},
   "source": [
    "## Ejercicio 2\n",
    "Crea un entorno virtual en Anaconda con el nombre \"entorn_ML\" que contenga las librerías necesarias para ML."
   ]
  },
  {
   "cell_type": "markdown",
   "id": "545b0730-da72-49ae-a5bd-a361caf3d30f",
   "metadata": {},
   "source": [
    "![Entorn](Tarea1/Entorn_ML.png)"
   ]
  },
  {
   "cell_type": "markdown",
   "id": "6d8944be-e384-4c7a-88e2-33049954df26",
   "metadata": {},
   "source": [
    "#### Numpy"
   ]
  },
  {
   "cell_type": "markdown",
   "id": "7f1e77cf-dc67-4822-b3ce-d4221f525eca",
   "metadata": {},
   "source": [
    "![Numpy](Tarea1/Numpy.png)"
   ]
  },
  {
   "cell_type": "markdown",
   "id": "5995e7d1-f57f-4d53-9b16-d7141ee10704",
   "metadata": {},
   "source": [
    "#### Pandas"
   ]
  },
  {
   "cell_type": "markdown",
   "id": "fd889c82-827f-473f-8661-38046d4d5473",
   "metadata": {},
   "source": [
    "![Pandas](Tarea1/Pandas.png)"
   ]
  },
  {
   "cell_type": "markdown",
   "id": "306e96db-c516-42b3-8fe3-da69ab190ece",
   "metadata": {},
   "source": [
    "#### Scikit-Learn"
   ]
  },
  {
   "cell_type": "markdown",
   "id": "9c9202c0-c1cc-4ab5-a261-e144f353d972",
   "metadata": {},
   "source": [
    "![Scikt-Learn](Tarea1/Scikit.png)"
   ]
  },
  {
   "cell_type": "markdown",
   "id": "4a939776-36bc-403d-84db-f5f44dc6ba67",
   "metadata": {},
   "source": [
    "#### Matplotlib"
   ]
  },
  {
   "cell_type": "markdown",
   "id": "6a575d7e-7593-4c25-a653-98db7c636e51",
   "metadata": {},
   "source": [
    "![Matplotlib](Tarea1/Matplotlib.png)"
   ]
  },
  {
   "cell_type": "markdown",
   "id": "1afa4501-c4ea-45fe-bc20-ec8d98b0c7bb",
   "metadata": {},
   "source": [
    "#### Seaborn"
   ]
  },
  {
   "cell_type": "markdown",
   "id": "ec178a7c-d9f4-41d3-94c3-51ebc45b6aa5",
   "metadata": {},
   "source": [
    "![Seaborn](Tarea1/Seaborn.png)"
   ]
  },
  {
   "cell_type": "markdown",
   "id": "dc96b9e0-db4e-45fe-8e66-59ef815abf8f",
   "metadata": {},
   "source": [
    "#### Streamlit"
   ]
  },
  {
   "cell_type": "markdown",
   "id": "84386df2-e63a-40a8-8e28-6a800360b3e2",
   "metadata": {},
   "source": [
    "![Streamlit](Tarea1/Streamlit.png)"
   ]
  },
  {
   "cell_type": "markdown",
   "id": "1485a966-aa83-46d4-b9ec-e77d9b13c45f",
   "metadata": {},
   "source": [
    "## Ejercicio 3\n",
    "Usando Jupyter Notebook ejecuta algunos cálculos sencillos, a la vez que te familiarizas con el lenguaje Markdown."
   ]
  },
  {
   "cell_type": "code",
   "execution_count": 4,
   "id": "f4519643-ba35-4472-b475-2c1576f54d0e",
   "metadata": {},
   "outputs": [
    {
     "data": {
      "text/plain": [
       "6"
      ]
     },
     "execution_count": 4,
     "metadata": {},
     "output_type": "execute_result"
    }
   ],
   "source": [
    "4+2"
   ]
  },
  {
   "cell_type": "code",
   "execution_count": 5,
   "id": "c1d77edd-be89-4fab-9004-3bee1afde942",
   "metadata": {},
   "outputs": [
    {
     "data": {
      "text/plain": [
       "'4+2'"
      ]
     },
     "execution_count": 5,
     "metadata": {},
     "output_type": "execute_result"
    }
   ],
   "source": [
    "'4+2'"
   ]
  },
  {
   "cell_type": "code",
   "execution_count": 6,
   "id": "9241d6f8-4bd6-4886-bb09-4011cb9e8a20",
   "metadata": {},
   "outputs": [
    {
     "data": {
      "text/plain": [
       "True"
      ]
     },
     "execution_count": 6,
     "metadata": {},
     "output_type": "execute_result"
    }
   ],
   "source": [
    "0==0"
   ]
  },
  {
   "cell_type": "markdown",
   "id": "ac908b0c-9849-4ba5-bb1d-c21329b2e5ed",
   "metadata": {},
   "source": [
    "## Ejercicio 4\n",
    "Prueba a crear títulos, listas, cambiar el estilo de la letra o añadir imágenes dentro del Notebook."
   ]
  },
  {
   "cell_type": "markdown",
   "id": "97d00175-b640-47bf-8433-73902a11d206",
   "metadata": {},
   "source": [
    "<font color=\"blue\">Este texto es una prueba de cambio de color </font>"
   ]
  },
  {
   "cell_type": "markdown",
   "id": "70020c11-bc96-4c45-9af0-f61f752fa765",
   "metadata": {},
   "source": [
    "<font color=\"green\">*Y este es otra prueba con otro color y en cursiva.*</font>"
   ]
  },
  {
   "cell_type": "markdown",
   "id": "1dc6f74d-f7b9-4981-bc89-d18a4c32f1ea",
   "metadata": {},
   "source": [
    "## Ejercicio 5\n",
    "Crea un repositorio en GitHub con el nombre \"Proyecto Machine Learning\\\""
   ]
  },
  {
   "cell_type": "markdown",
   "id": "bdc0c1ff-f02a-4645-bb3e-f9afe003daa3",
   "metadata": {},
   "source": [
    "![Github](Tarea1/Github.png)"
   ]
  },
  {
   "cell_type": "markdown",
   "id": "47b88d2f-2728-4086-a754-7b7c47fc9802",
   "metadata": {},
   "source": [
    "## Ejercicio 6\n",
    "Sube el archivo de Jupyter Notebook a tu repositorio de GitHub."
   ]
  },
  {
   "cell_type": "markdown",
   "id": "52bc9fea-5378-49a3-8afe-fb758b6e9aa8",
   "metadata": {},
   "source": [
    "El archivo esta subido en el Github y se puede ver en este link: https://github.com/isashi04/Proyecto-Machine-Learning"
   ]
  },
  {
   "cell_type": "markdown",
   "id": "337d70d2-47f9-49ba-8889-b8bca0e56808",
   "metadata": {},
   "source": [
    "![Github2](Tarea1/Github2.png)"
   ]
  },
  {
   "cell_type": "code",
   "execution_count": null,
   "id": "2ed18f2c-594f-448a-bdf9-255fe6f6883e",
   "metadata": {},
   "outputs": [],
   "source": []
  }
 ],
 "metadata": {
  "kernelspec": {
   "display_name": "Python 3 (ipykernel)",
   "language": "python",
   "name": "python3"
  },
  "language_info": {
   "codemirror_mode": {
    "name": "ipython",
    "version": 3
   },
   "file_extension": ".py",
   "mimetype": "text/x-python",
   "name": "python",
   "nbconvert_exporter": "python",
   "pygments_lexer": "ipython3",
   "version": "3.12.5"
  }
 },
 "nbformat": 4,
 "nbformat_minor": 5
}
