{
 "cells": [
  {
   "cell_type": "markdown",
   "id": "a29e2661-d190-49da-a224-f15bac66a843",
   "metadata": {},
   "source": [
    "# Tarea 1 de Machine Learning en Barcelona Activa."
   ]
  },
  {
   "cell_type": "markdown",
   "id": "0108ce9a-adda-40f8-b951-689f426ce2f9",
   "metadata": {},
   "source": [
    "## Ejercicio 1\n",
    "\n",
    "Instala el programa Anaconda con Python 3, y Jupyter Notebook."
   ]
  },
  {
   "cell_type": "markdown",
   "id": "e856b72e-48e1-4684-8c00-e05aff8fd8ba",
   "metadata": {},
   "source": [
    "![Anaconda](Tarea1/Anaconda.png)"
   ]
  },
  {
   "cell_type": "markdown",
   "id": "d4679f9e-e595-4fe3-9292-6563ad004b5d",
   "metadata": {},
   "source": [
    "## Ejercicio 2\n",
    "Crea un entorno virtual en Anaconda con el nombre \"entorn_ML\" que contenga las librerías necesarias para ML."
   ]
  },
  {
   "cell_type": "markdown",
   "id": "699d35a3-1715-4af6-94d8-44caee155466",
   "metadata": {},
   "source": [
    "![Entorn](Tarea1/Entorn_ML.png)"
   ]
  },
  {
   "cell_type": "markdown",
   "id": "eae23c8f-2ce8-4dc3-8527-ae8ac6f57f9d",
   "metadata": {},
   "source": [
    "#### Numpy"
   ]
  },
  {
   "cell_type": "markdown",
   "id": "1b6b78c5-2624-4284-b7fd-0a1ec200d41f",
   "metadata": {},
   "source": [
    "![Numpy](Tarea1/Numpy.png)"
   ]
  },
  {
   "cell_type": "markdown",
   "id": "d6cb5361-bde4-43f5-95ec-d2d228d4dde9",
   "metadata": {},
   "source": [
    "#### Pandas"
   ]
  },
  {
   "cell_type": "markdown",
   "id": "c43c371d-ab48-4732-b8d8-d84659518fc4",
   "metadata": {},
   "source": [
    "![Pandas](Tarea1/Pandas.png)"
   ]
  },
  {
   "cell_type": "markdown",
   "id": "a0507156-e37f-4289-bc14-a03dcf6d0bdf",
   "metadata": {},
   "source": [
    "#### Scikit-Learn"
   ]
  },
  {
   "cell_type": "markdown",
   "id": "14b97f0c-19b4-4a7d-843e-62f3a250b2f7",
   "metadata": {},
   "source": [
    "![Scikit](Tarea1/Scikit.png)"
   ]
  },
  {
   "cell_type": "markdown",
   "id": "04193190-dfff-437f-9223-e30d54b0a7a3",
   "metadata": {},
   "source": [
    "#### Matplotlib"
   ]
  },
  {
   "cell_type": "markdown",
   "id": "b3eb64c3-97f9-4966-a83f-ef8f1ae688f8",
   "metadata": {},
   "source": [
    "![Matplotlib](Tarea1/Matplotlib.png)"
   ]
  },
  {
   "cell_type": "markdown",
   "id": "c9af956e-5506-4171-b89a-8575dbe6a842",
   "metadata": {},
   "source": [
    "#### Seaborn"
   ]
  },
  {
   "cell_type": "markdown",
   "id": "d06db3a5-97ed-44c1-81ed-d00092a6fa53",
   "metadata": {},
   "source": [
    "![Seaborn](Tarea1/Seaborn.png)"
   ]
  },
  {
   "cell_type": "markdown",
   "id": "8dca76f7-89ec-405b-86f7-f807eccdf29e",
   "metadata": {},
   "source": [
    "#### Streamlit"
   ]
  },
  {
   "cell_type": "markdown",
   "id": "a20c1ab1-7005-4e92-9e35-f2de19b83951",
   "metadata": {},
   "source": [
    "![Streamlit](Tarea1/Streamlit.png)"
   ]
  },
  {
   "cell_type": "markdown",
   "id": "1ed8f48c-fda6-4b34-bb62-4077ff57c321",
   "metadata": {},
   "source": [
    "## Ejercicio 3\n",
    "Usando Jupyter Notebook ejecuta algunos cálculos sencillos, a la vez que te familiarizas con el lenguaje Markdown."
   ]
  },
  {
   "cell_type": "code",
   "execution_count": 12,
   "id": "51e3c221-a2af-41ad-b148-12c6b20cfe2f",
   "metadata": {},
   "outputs": [
    {
     "data": {
      "text/plain": [
       "6"
      ]
     },
     "execution_count": 12,
     "metadata": {},
     "output_type": "execute_result"
    }
   ],
   "source": [
    "4+2"
   ]
  },
  {
   "cell_type": "code",
   "execution_count": 14,
   "id": "4b8b4cda-aad1-41f9-a2b2-b5aeaa6e9f6a",
   "metadata": {},
   "outputs": [
    {
     "data": {
      "text/plain": [
       "True"
      ]
     },
     "execution_count": 14,
     "metadata": {},
     "output_type": "execute_result"
    }
   ],
   "source": [
    "0==0"
   ]
  },
  {
   "cell_type": "markdown",
   "id": "39563bc8-9047-4763-a3cf-a3c7167097c2",
   "metadata": {},
   "source": [
    "He probado Markdown a lo largo de esta tarea."
   ]
  },
  {
   "cell_type": "markdown",
   "id": "4435dd5f-18a9-4fbd-974e-905077995a3a",
   "metadata": {},
   "source": [
    "## Ejercicio 4\n",
    "Prueba a crear títulos, listas, cambiar el estilo de la letra o añadir imágenes dentro del Notebook."
   ]
  },
  {
   "cell_type": "markdown",
   "id": "db85feff-8e87-4386-8c0d-e38b45c90b89",
   "metadata": {},
   "source": [
    "<font color=\"blue\">Este texto es una prueba de cambio de color </font>"
   ]
  },
  {
   "cell_type": "markdown",
   "id": "a0d6d332-c9aa-4658-98d9-d1b7ff4751a3",
   "metadata": {},
   "source": [
    "<font color=\"green\">*Y este es otra prueba con otro color y en cursiva.*</font>"
   ]
  },
  {
   "cell_type": "markdown",
   "id": "652b625d-8f58-4961-922b-41f625066902",
   "metadata": {},
   "source": [
    "## Ejercicio 5\n",
    "Crea un repositorio en GitHub con el nombre \"Proyecto Machine Learning\""
   ]
  },
  {
   "cell_type": "markdown",
   "id": "80ddc078-f967-4105-b33b-1387b40fb6f1",
   "metadata": {},
   "source": [
    "![Github](Tarea1/Github.png)"
   ]
  },
  {
   "cell_type": "code",
   "execution_count": null,
   "id": "4629f4f1-927d-4956-b371-da05883c5eef",
   "metadata": {},
   "outputs": [],
   "source": []
  },
  {
   "cell_type": "markdown",
   "id": "1510a8e3-5a1e-4143-b231-edb66ffe3148",
   "metadata": {},
   "source": [
    "## Ejercicio 6\n",
    "Sube el archivo de Jupyter Notebook a tu repositorio de GitHub."
   ]
  },
  {
   "cell_type": "code",
   "execution_count": null,
   "id": "f74f90ca-db03-437d-a0bd-ef21d2468a58",
   "metadata": {},
   "outputs": [],
   "source": [
    "El archivo se puede encontrar en e"
   ]
  },
  {
   "cell_type": "code",
   "execution_count": null,
   "id": "61dd91ab-c674-4fc0-a23e-6f11c6e5915a",
   "metadata": {},
   "outputs": [],
   "source": []
  },
  {
   "cell_type": "code",
   "execution_count": null,
   "id": "3a4ca2a3-21a3-4cfe-ba9e-7a4b7444e6ed",
   "metadata": {},
   "outputs": [],
   "source": []
  }
 ],
 "metadata": {
  "kernelspec": {
   "display_name": "Python 3 (ipykernel)",
   "language": "python",
   "name": "python3"
  },
  "language_info": {
   "codemirror_mode": {
    "name": "ipython",
    "version": 3
   },
   "file_extension": ".py",
   "mimetype": "text/x-python",
   "name": "python",
   "nbconvert_exporter": "python",
   "pygments_lexer": "ipython3",
   "version": "3.12.5"
  }
 },
 "nbformat": 4,
 "nbformat_minor": 5
}
